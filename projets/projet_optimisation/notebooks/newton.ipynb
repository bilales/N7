{
 "cells": [
  {
   "cell_type": "markdown",
   "metadata": {},
   "source": [
    "<center>\n",
    "<h1> TP-Projet d'optimisation numérique </h1>\n",
    "<h1> Algorithme de Newton </h1>\n",
    "</center>"
   ]
  },
  {
   "cell_type": "markdown",
   "metadata": {},
   "source": [
    "## Implémentation \n",
    " \n",
    "1. Coder l’algorithme de Newton dans le fichier `src/newton.jl` en respectant la spécification donnée dans ce même fichier ;\n",
    "2. Exécuter les tests ci-dessous et vérifier qu'ils passent.\n",
    "\n",
    "Pour les tests, nous avons défini les fonctions suivantes $f_1 \\colon \\mathbb{R}^3 \\to \\mathbb{R}$\n",
    "et $f_2 \\colon \\mathbb{R}^2 \\to \\mathbb{R}$.\n",
    "\n",
    "$$\n",
    "    f_{1}(x_1, x_2, x_3) = 2 (x_1 +x_2 + x_3 -3)^2 + (x_1-x_2)^2 + (x_2 - x_3)^2\n",
    "$$\n",
    "et\n",
    "$$\n",
    "    f_{2}(x_1,x_2) = 100(x_2-x_1^2)^2 + (1-x_1)^2.\n",
    "$$\n",
    "\n",
    "**Remarque.** On peut retrouver ces fonctions dans le fichier `test/fonctions_de_tests.jl`."
   ]
  },
  {
   "cell_type": "code",
   "execution_count": 2,
   "metadata": {},
   "outputs": [
    {
     "data": {
      "text/plain": [
       "([1.0, 1.0], 0.0, 0, 1, [[1.0, 0.0], [1.0, 1.0]])"
      ]
     },
     "metadata": {},
     "output_type": "display_data"
    }
   ],
   "source": [
    "f(x)=100*(x[2]-x[1]^2)^2+(1-x[1])^2\n",
    "gradf(x)=[-400*x[1]*(x[2]-x[1]^2)-2*(1-x[1]) ; 200*(x[2]-x[1]^2)]\n",
    "hessf(x)=[-400*(x[2]-3*x[1]^2)+2  -400*x[1];-400*x[1]  200]\n",
    "x0 = [1; 0]\n",
    "x_sol, f_sol, flag, nb_iters, xs = newton(f, gradf, hessf, x0)"
   ]
  },
  {
   "cell_type": "code",
   "execution_count": 3,
   "metadata": {},
   "outputs": [
    {
     "name": "stdout",
     "output_type": "stream",
     "text": [
      "Affichage des résultats des algorithmes : true\n",
      "\n",
      "-------------------------------------------------------------------------\n",
      "\u001b[34m\u001b[1mRésultats de : newton appliqué à f1:\u001b[22m\u001b[39m\n",
      "  * x0       = [1, 1, 1]\n",
      "  * x_sol    = [1, 1, 1]\n",
      "  * f(x_sol) = 0\n",
      "  * nb_iters = 0\n",
      "  * flag     = 0\n",
      "  * solution = [1, 1, 1]\n",
      "-------------------------------------------------------------------------\n",
      "\u001b[34m\u001b[1mRésultats de : newton appliqué à f1:\u001b[22m\u001b[39m\n",
      "  * x0       = [1, 0, 0]\n",
      "  * x_sol    = [1.0, 1.0, 0.9999999999999999]\n",
      "  * f(x_sol) = 1.232595164407831e-32\n",
      "  * nb_iters = 1\n",
      "  * flag     = 0\n",
      "  * solution = [1, 1, 1]\n"
     ]
    },
    {
     "name": "stdout",
     "output_type": "stream",
     "text": [
      "-------------------------------------------------------------------------\n",
      "\u001b[34m\u001b[1mRésultats de : newton appliqué à f1:\u001b[22m\u001b[39m\n",
      "  * x0       = [10.0, 3.0, -2.2]\n",
      "  * x_sol    = [1.0, 0.9999999999999996, 0.9999999999999987]\n",
      "  * f(x_sol) = 7.296963373294359e-30\n",
      "  * nb_iters = 1\n",
      "  * flag     = 0\n",
      "  * solution = [1, 1, 1]\n",
      "-------------------------------------------------------------------------\n",
      "\u001b[34m\u001b[1mRésultats de : newton appliqué à f2:\u001b[22m\u001b[39m\n",
      "  * x0       = [-1.2, 1.0]\n",
      "  * x_sol    = [0.9999999999999999, 0.9999999999814724]\n",
      "  * f(x_sol) = 3.4326461875363225e-20\n",
      "  * nb_iters = 6\n",
      "  * flag     = 0\n",
      "  * solution = [1, 1]\n",
      "-------------------------------------------------------------------------\n",
      "\u001b[34m\u001b[1mRésultats de : newton appliqué à f2:\u001b[22m\u001b[39m\n",
      "  * x0       = [10, 0]\n",
      "  * x_sol    = [1.0, 1.0]\n",
      "  * f(x_sol) = 0.0\n",
      "  * nb_iters = 5\n",
      "  * flag     = 0\n",
      "  * solution = [1, 1]\n",
      "-------------------------------------------------------------------------\n",
      "\u001b[34m\u001b[1mRésultats de : newton appliqué à f2:\u001b[22m\u001b[39m\n",
      "  * x0       = [0.0, 0.0050000000010000005]\n",
      "  * x_sol    = [-4.99999958629818e9, 8.673617379884035e-19]\n",
      "  * f(x_sol) = 6.249997931491155e40\n",
      "  * nb_iters = 1\n",
      "  * flag     = 3\n",
      "  * solution = [1, 1]\n",
      "exception: \u001b[91m\u001b[1mTest Failed\u001b[22m\u001b[39m at \u001b[39m\u001b[1m/Users/bilalazdad/Documents/2A/S7/Optimisation/azdad_bilal_M1/test/tester_newton.jl:128\u001b[22m\n",
      "  Expression: (_, _, _, _) = newton(fct2, grad_fct2, hess_fct2, pts1.x023, max_iter = max_iter, tol_abs = tol_abs, tol_rel = tol_rel, epsilon = epsilon)\n",
      "    Expected: SingularException\n",
      "  No exception thrown\n",
      "\n",
      "Stacktrace:\n",
      " [1] \u001b[0m\u001b[1mmacro expansion\u001b[22m\n",
      "\u001b[90m   @\u001b[39m \u001b[90m~/Documents/2A/S7/Optimisation/azdad_bilal_M1/test/\u001b[39m\u001b[90m\u001b[4mtester_newton.jl:128\u001b[24m\u001b[39m\u001b[90m [inlined]\u001b[39m\n",
      " [2] \u001b[0m\u001b[1mmacro expansion\u001b[22m\n",
      "\u001b[90m   @\u001b[39m \u001b[90m/Applications/Julia-1.9.app/Contents/Resources/julia/share/julia/stdlib/v1.9/Test/src/\u001b[39m\u001b[90m\u001b[4mTest.jl:1498\u001b[24m\u001b[39m\u001b[90m [inlined]\u001b[39m\n",
      " [3] \u001b[0m\u001b[1mmacro expansion\u001b[22m\n",
      "\u001b[90m   @\u001b[39m \u001b[90m~/Documents/2A/S7/Optimisation/azdad_bilal_M1/test/\u001b[39m\u001b[90m\u001b[4mtester_newton.jl:128\u001b[24m\u001b[39m\u001b[90m [inlined]\u001b[39m\n",
      " [4] \u001b[0m\u001b[1mmacro expansion\u001b[22m\n",
      "\u001b[90m   @\u001b[39m \u001b[90m/Applications/Julia-1.9.app/Contents/Resources/julia/share/julia/stdlib/v1.9/Test/src/\u001b[39m\u001b[90m\u001b[4mTest.jl:1498\u001b[24m\u001b[39m\u001b[90m [inlined]\u001b[39m\n",
      " [5] \u001b[0m\u001b[1mmacro expansion\u001b[22m\n",
      "\u001b[90m   @\u001b[39m \u001b[90m~/Documents/2A/S7/Optimisation/azdad_bilal_M1/test/\u001b[39m\u001b[90m\u001b[4mtester_newton.jl:113\u001b[24m\u001b[39m\u001b[90m [inlined]\u001b[39m\n",
      " [6] \u001b[0m\u001b[1mmacro expansion\u001b[22m\n",
      "\u001b[90m   @\u001b[39m \u001b[90m/Applications/Julia-1.9.app/Contents/Resources/julia/share/julia/stdlib/v1.9/Test/src/\u001b[39m\u001b[90m\u001b[4mTest.jl:1498\u001b[24m\u001b[39m\u001b[90m [inlined]\u001b[39m\n",
      " [7] \u001b[0m\u001b[1mtester_newton\u001b[22m\u001b[0m\u001b[1m(\u001b[22m\u001b[90mnewton\u001b[39m::\u001b[0mtypeof(newton), \u001b[90mafficher\u001b[39m::\u001b[0mBool\u001b[0m\u001b[1m)\u001b[22m\n",
      "\u001b[90m   @\u001b[39m \u001b[35mMain\u001b[39m \u001b[90m~/Documents/2A/S7/Optimisation/azdad_bilal_M1/test/\u001b[39m\u001b[90m\u001b[4mtester_newton.jl:32\u001b[24m\u001b[39m\n",
      "\u001b[0m\u001b[1mTest Summary:             | \u001b[22m\u001b[32m\u001b[1mPass  \u001b[22m\u001b[39m\u001b[91m\u001b[1mFail  \u001b[22m\u001b[39m\u001b[36m\u001b[1mTotal  \u001b[22m\u001b[39m\u001b[0m\u001b[1mTime\u001b[22m\n",
      "algorithme de Newton      | \u001b[32m  18  \u001b[39m\u001b[91m   1  \u001b[39m\u001b[36m   19  \u001b[39m\u001b[0m0.2s\n",
      "  test f1 : x0 = solution | \u001b[32m   3  \u001b[39m      \u001b[36m    3  \u001b[39m\u001b[0m0.1s\n",
      "  test f1 : x0 = x011     | \u001b[32m   3  \u001b[39m      \u001b[36m    3  \u001b[39m\u001b[0m0.0s\n",
      "  test f1 : x0 = x012     | \u001b[32m   3  \u001b[39m      \u001b[36m    3  \u001b[39m\u001b[0m0.1s\n",
      "  test f2 : x0 = x021     | \u001b[32m   3  \u001b[39m      \u001b[36m    3  \u001b[39m\u001b[0m0.0s\n",
      "  test f2 : x0 = x022     | \u001b[32m   3  \u001b[39m      \u001b[36m    3  \u001b[39m\u001b[0m0.0s\n",
      "  test f2 : x0 = x023     | \u001b[32m   3  \u001b[39m\u001b[91m   1  \u001b[39m\u001b[36m    4  \u001b[39m\u001b[0m0.0s\n",
      "    solution              | \u001b[32m   1  \u001b[39m      \u001b[36m    1  \u001b[39m\u001b[0m0.0s\n",
      "    flag                  | \u001b[32m   1  \u001b[39m      \u001b[36m    1  \u001b[39m\u001b[0m0.0s\n",
      "    itération             | \u001b[32m   1  \u001b[39m      \u001b[36m    1  \u001b[39m\u001b[0m0.0s\n",
      "    exception             |       \u001b[91m   1  \u001b[39m\u001b[36m    1  \u001b[39m\u001b[0m0.0s\n"
     ]
    },
    {
     "ename": "TestSetException",
     "evalue": "Some tests did not pass: 18 passed, 1 failed, 0 errored, 0 broken.",
     "output_type": "error",
     "traceback": [
      "Some tests did not pass: 18 passed, 1 failed, 0 errored, 0 broken.\n",
      "\n",
      "Stacktrace:\n",
      " [1] finish(ts::Test.DefaultTestSet)\n",
      "   @ Test /Applications/Julia-1.9.app/Contents/Resources/julia/share/julia/stdlib/v1.9/Test/src/Test.jl:1151\n",
      " [2] macro expansion\n",
      "   @ /Applications/Julia-1.9.app/Contents/Resources/julia/share/julia/stdlib/v1.9/Test/src/Test.jl:1514 [inlined]\n",
      " [3] tester_newton(newton::typeof(newton), afficher::Bool)\n",
      "   @ Main ~/Documents/2A/S7/Optimisation/azdad_bilal_M1/test/tester_newton.jl:32\n",
      " [4] top-level scope\n",
      "   @ ~/Documents/2A/S7/Optimisation/azdad_bilal_M1/notebooks/newton.ipynb:8"
     ]
    }
   ],
   "source": [
    "include(\"../src/newton.jl\")         # votre algorithme de Newton\n",
    "include(\"../test/tester_newton.jl\") # la fonction pour tester votre algorithme de Newton\n",
    "\n",
    "#\n",
    "afficher = true # si true, alors affiche les résultats des algorithmes\n",
    "\n",
    "#\n",
    "tester_newton(newton, afficher); # tester l'algorithme de Newton"
   ]
  },
  {
   "cell_type": "code",
   "execution_count": 4,
   "metadata": {},
   "outputs": [
    {
     "name": "stdout",
     "output_type": "stream",
     "text": [
      "-------------------------------------------------------------------------\n",
      "\u001b[34m\u001b[1mRésultats de : Newton appliqué à f0:\u001b[22m\u001b[39m\n",
      "  * x0       = -1.5707963267948966\n",
      "  * x_sol    = -1.5707963267948966\n",
      "  * f(x_sol) = -1.0\n",
      "  * nb_iters = 0\n",
      "  * flag     = 0\n",
      "  * solution = -1.5707963267948966\n",
      "-------------------------------------------------------------------------\n",
      "\u001b[34m\u001b[1mRésultats de : Newton appliqué à f0:\u001b[22m\u001b[39m\n",
      "  * x0       = -1.0707963267948966\n",
      "  * x_sol    = -1.5707963267949088\n",
      "  * f(x_sol) = -1.0\n",
      "  * nb_iters = 3\n",
      "  * flag     = 0\n",
      "  * solution = -1.5707963267948966\n",
      "-------------------------------------------------------------------------\n",
      "\u001b[34m\u001b[1mRésultats de : Newton appliqué à f0:\u001b[22m\u001b[39m\n",
      "  * x0       = 1.5707963267948966\n",
      "  * x_sol    = 1.5707963267948966\n",
      "  * f(x_sol) = 1.0\n",
      "  * nb_iters = 0\n",
      "  * flag     = 0\n",
      "  * solution = -1.5707963267948966\n"
     ]
    }
   ],
   "source": [
    "include(\"../src/newton.jl\") # votre algorithme de Newton\n",
    "include(\"../test/fonctions_de_tests.jl\") # pour avoir la fonction d'affichage des résultats\n",
    "\n",
    "# Fonction f0\n",
    "# -----------\n",
    "f0(x)      =  sin(x)\n",
    "grad_f0(x) =  cos(x) # la gradient de la fonction f0\n",
    "hess_f0(x) = -sin(x) # la hessienne de la fonction f0\n",
    "solution   = -pi/2\n",
    "\n",
    "x0 = solution\n",
    "x_sol, f_sol, flag, nb_iters = newton(f0, grad_f0, hess_f0, x0)\n",
    "afficher_resultats(\"Newton\", \"f0\", x0, x_sol, f_sol, flag, nb_iters, solution)\n",
    "\n",
    "x0 = -pi/2+0.5\n",
    "x_sol, f_sol, flag, nb_iters = newton(f0, grad_f0, hess_f0, x0)\n",
    "afficher_resultats(\"Newton\", \"f0\", x0, x_sol, f_sol, flag, nb_iters, solution)\n",
    "\n",
    "x0 = pi/2\n",
    "x_sol, f_sol, flag, nb_iters = newton(f0, grad_f0, hess_f0, x0)\n",
    "afficher_resultats(\"Newton\", \"f0\", x0, x_sol, f_sol, flag, nb_iters, solution)\n"
   ]
  },
  {
   "cell_type": "markdown",
   "metadata": {},
   "source": [
    "## Interprétation \n",
    "\n",
    "1. Justifier les résultats obtenus pour l'exemple $f_0$ ci-dessus;\n",
    "2. Justifier que l’algorithme implémenté converge en une itération pour $f_{1}$;\n",
    "3. Justifier que l’algorithme puisse ne pas converger pour $f_{2}$ avec certains points initiaux.\n",
    "\n",
    "**Remarque.** Vous pouvez mettre `affiche=true` dans les tests de l'algorithme de Newton pour\n",
    "vous aider.\n"
   ]
  },
  {
   "cell_type": "code",
   "execution_count": 5,
   "metadata": {},
   "outputs": [
    {
     "ename": "ErrorException",
     "evalue": "syntax: extra token \")\" after end of expression",
     "output_type": "error",
     "traceback": [
      "syntax: extra token \")\" after end of expression\n",
      "\n",
      "Stacktrace:\n",
      " [1] top-level scope\n",
      "   @ ~/Documents/2A/S7/Optimisation/azdad_bilal_M1/notebooks/newton.ipynb:1"
     ]
    }
   ],
   "source": [
    "1) Dans les premiers cas du Test de $f_0 = sin (x)$ , lorsque la valeur initiale est -pi/2 et -1.0707963267948966, \n",
    "un minimum est atteint et les résultats convergent également vers cette valeur minimale. Pour ces deux cas, le résultat minimum est le même, \n",
    "à savoir -1. Par contre, dans le dernier test, avec une valeur initiale de pi/2, on obtient la valeur maximale +1, soit le max du sinus.\n",
    "\n",
    "2) f1 est égale à son developpement de Taylor du second ordre, la valeur minimale peut être obtenue en une seule itération,\n",
    "puisque f1 est censé être approximé par son développement à l'ordre 2, ceci étant le cas, une itération suffit.\n",
    "\n",
    "3) la hessienne de f2 est mal conditionné pour beaucoup de points notamment pour les points éloignés du minimum, ainsi, \n",
    "pour certains points f2 pourrait être considéré comme convexe, mais pour d'autres points, elle pourrait être considéré comme concave.\n",
    "Ainsi, la méthode de Newton pourrait converger vers un minimum local, mais pas forcément vers le minimum global, cette fonction est connnue\n",
    "sous le nom de la fonction de Rosenbrock.\n",
    "\n"
   ]
  }
 ],
 "metadata": {
  "kernelspec": {
   "display_name": "Julia 1.9.3",
   "language": "julia",
   "name": "julia-1.9"
  },
  "language_info": {
   "file_extension": ".jl",
   "mimetype": "application/julia",
   "name": "julia",
   "version": "1.9.3"
  }
 },
 "nbformat": 4,
 "nbformat_minor": 4
}
